{
 "cells": [
  {
   "cell_type": "code",
   "execution_count": 5,
   "id": "95cb37d3-7c24-49b9-b2a0-62e779bf37df",
   "metadata": {},
   "outputs": [
    {
     "data": {
      "text/plain": [
       "False"
      ]
     },
     "execution_count": 5,
     "metadata": {},
     "output_type": "execute_result"
    }
   ],
   "source": [
    "from dotenv import load_dotenv\n",
    "load_dotenv(dotenv_path='../')"
   ]
  },
  {
   "cell_type": "markdown",
   "id": "0d6fd9a9-2ed7-43a1-8173-3cbed1dd0bbf",
   "metadata": {},
   "source": [
    "### Summarize a document"
   ]
  },
  {
   "cell_type": "code",
   "execution_count": 21,
   "id": "a2b0a475-adbc-47ed-b988-859dfcafbe25",
   "metadata": {},
   "outputs": [],
   "source": [
    "input_doc = \"https://2os.com/insights/recoveries-strategy-refresh/\""
   ]
  },
  {
   "cell_type": "code",
   "execution_count": 7,
   "id": "6e43790e-1553-4aed-bc92-e5a601a448fe",
   "metadata": {},
   "outputs": [
    {
     "data": {
      "text/plain": [
       "'This white paper discusses the importance of optimizing recoveries (collecting on charged-off loans) for financial institutions during economic downturns. It highlights the need for a robust inventory management strategy and the use of various component operations such as internal staffing, 3rd party agencies, legal firms, and debt buyers. The paper also emphasizes the need to measure recoveries performance based on revenues rather than expenses and recommends strategies such as digital-first recoveries, next-generation models, and collaboration with debt settlement companies. The authors estimate that implementing these strategies can result in a 15-30% increase in recoveries revenue during a downturn. The paper concludes by urging financial institutions to take action and refresh their recoveries strategies to unlock significant value.'"
      ]
     },
     "execution_count": 7,
     "metadata": {},
     "output_type": "execute_result"
    }
   ],
   "source": [
    "from langchain.chat_models import ChatOpenAI\n",
    "from langchain.document_loaders import WebBaseLoader\n",
    "from langchain.chains.summarize import load_summarize_chain\n",
    "\n",
    "loader = WebBaseLoader(input_doc)\n",
    "docs = loader.load()\n",
    "\n",
    "llm = ChatOpenAI(temperature=0, model_name=\"gpt-3.5-turbo-16k\")\n",
    "chain = load_summarize_chain(llm, chain_type=\"stuff\")\n",
    "\n",
    "chain.run(docs)"
   ]
  },
  {
   "cell_type": "markdown",
   "id": "95bba374-fc4e-435f-be8a-d5895b7a6140",
   "metadata": {},
   "source": [
    "Alternatively, we can use `StuffDocumentsChain`, which should return almost identical response."
   ]
  },
  {
   "cell_type": "code",
   "execution_count": 8,
   "id": "c7f6ca1c-ccbc-474e-8f5b-be6ec7c64009",
   "metadata": {},
   "outputs": [
    {
     "name": "stdout",
     "output_type": "stream",
     "text": [
      "This white paper discusses the importance of optimizing recoveries (collecting on charged-off loans) for financial institutions. It highlights how recoveries are often overlooked during benign economic periods but become crucial during downturns. The paper provides recommendations for updating recoveries strategies, including inventory management, digital transformation, and operational improvements. It also emphasizes the need for a data-driven approach and collaboration with debt settlement companies. The authors estimate that implementing these strategies can lead to a 15-30% increase in recoveries revenue during a downturn. The paper concludes by urging financial institutions to take action and refresh their recoveries strategies to unlock significant value.\n"
     ]
    }
   ],
   "source": [
    "from langchain.chains.llm import LLMChain\n",
    "from langchain.prompts import PromptTemplate\n",
    "from langchain.chains.combine_documents.stuff import StuffDocumentsChain\n",
    "\n",
    "# Define prompt\n",
    "prompt_template = \"\"\"Write a concise summary of the following:\n",
    "\"{text}\"\n",
    "CONCISE SUMMARY:\"\"\"\n",
    "prompt = PromptTemplate.from_template(prompt_template)\n",
    "\n",
    "# Define LLM chain\n",
    "llm = ChatOpenAI(temperature=0, model_name=\"gpt-3.5-turbo-16k\")\n",
    "llm_chain = LLMChain(llm=llm, prompt=prompt)\n",
    "\n",
    "# Define StuffDocumentsChain\n",
    "stuff_chain = StuffDocumentsChain(\n",
    "    llm_chain=llm_chain, document_variable_name=\"text\"\n",
    ")\n",
    "\n",
    "docs = loader.load()\n",
    "print(stuff_chain.run(docs))"
   ]
  },
  {
   "cell_type": "markdown",
   "id": "bd17dc5a-3489-4f7d-9137-74a96e9991f2",
   "metadata": {},
   "source": [
    "Alternatively, we can use the \"map-reduce\" approach to summarize the document."
   ]
  },
  {
   "cell_type": "code",
   "execution_count": 9,
   "id": "b21cca55-a7aa-4531-8039-1e1d93f6be60",
   "metadata": {},
   "outputs": [],
   "source": [
    "from langchain.chains.mapreduce import MapReduceChain\n",
    "from langchain.text_splitter import CharacterTextSplitter\n",
    "from langchain.chains import ReduceDocumentsChain, MapReduceDocumentsChain\n",
    "\n",
    "llm = ChatOpenAI(temperature=0)\n",
    "\n",
    "# Map\n",
    "map_template = \"\"\"The following is a set of documents\n",
    "{docs}\n",
    "Based on this list of docs, please identify the main themes \n",
    "Helpful Answer:\"\"\"\n",
    "map_prompt = PromptTemplate.from_template(map_template)\n",
    "map_chain = LLMChain(llm=llm, prompt=map_prompt)"
   ]
  },
  {
   "cell_type": "code",
   "execution_count": 10,
   "id": "22c81332-0c8f-4319-b323-49fb1c7f4c2e",
   "metadata": {},
   "outputs": [],
   "source": [
    "# Reduce\n",
    "reduce_template = \"\"\"The following is set of summaries:\n",
    "{doc_summaries}\n",
    "Take these and distill it into a final, consolidated summary of the main themes. \n",
    "Helpful Answer:\"\"\"\n",
    "\n",
    "reduce_prompt = PromptTemplate.from_template(reduce_template)"
   ]
  },
  {
   "cell_type": "code",
   "execution_count": 11,
   "id": "a209981c-09a9-4f04-8490-b77507dd4701",
   "metadata": {},
   "outputs": [],
   "source": [
    "# Run chain\n",
    "reduce_chain = LLMChain(llm=llm, prompt=reduce_prompt)\n",
    "\n",
    "# Takes a list of documents, combines them into a single string, and passes this to an LLMChain\n",
    "combine_documents_chain = StuffDocumentsChain(\n",
    "    llm_chain=reduce_chain, document_variable_name=\"doc_summaries\"\n",
    ")\n",
    "\n",
    "# Combines and iteravely reduces the mapped documents\n",
    "reduce_documents_chain = ReduceDocumentsChain(\n",
    "    # This is final chain that is called.\n",
    "    combine_documents_chain=combine_documents_chain,\n",
    "    # If documents exceed context for `StuffDocumentsChain`\n",
    "    collapse_documents_chain=combine_documents_chain,\n",
    "    # The maximum number of tokens to group documents into.\n",
    "    token_max=4000,\n",
    ")"
   ]
  },
  {
   "cell_type": "code",
   "execution_count": null,
   "id": "24397c92-b686-4ebb-927c-7b8c0ca82c1f",
   "metadata": {},
   "outputs": [],
   "source": [
    "# Combining documents by mapping a chain over them, then combining results\n",
    "map_reduce_chain = MapReduceDocumentsChain(\n",
    "    # Map chain\n",
    "    llm_chain=map_chain,\n",
    "    # Reduce chain\n",
    "    reduce_documents_chain=reduce_documents_chain,\n",
    "    # The variable name in the llm_chain to put the documents in\n",
    "    document_variable_name=\"docs\",\n",
    "    # Return the results of the map steps in the output\n",
    "    return_intermediate_steps=False,\n",
    ")"
   ]
  },
  {
   "cell_type": "code",
   "execution_count": 13,
   "id": "fab93747-390e-49ea-9453-74d113009675",
   "metadata": {},
   "outputs": [
    {
     "name": "stdout",
     "output_type": "stream",
     "text": [
      "The main themes of the provided documents revolve around the importance of optimizing recoveries strategies, the evolution of recoveries operations, and the recommended strategies for future economic downturns. These themes highlight the significance of inventory management, digital transformation, next-generation models, litigation usage, debt sales testing, and collaboration with debt settlement companies. The documents emphasize the potential impact of these strategies on recoveries revenue and stress the need for action in the current economic conditions. Additionally, a data-driven and segmented approach to recoveries is emphasized, with 2nd Order Solutions being highlighted as an expert in digital-first recoveries.\n"
     ]
    }
   ],
   "source": [
    "print(map_reduce_chain.run(docs))"
   ]
  },
  {
   "cell_type": "markdown",
   "id": "43f33cc2-bdc4-411c-85d7-01f4bfdf93a2",
   "metadata": {},
   "source": [
    "This takes much longer than the `stuff` approach above, and it looks like this summary is slightly inferior to the earlier ones."
   ]
  },
  {
   "cell_type": "markdown",
   "id": "66079129-3470-4179-a6bc-822d453de60a",
   "metadata": {},
   "source": [
    "### Create a knowledge base from this document"
   ]
  },
  {
   "cell_type": "code",
   "execution_count": 14,
   "id": "43c789e9-dba4-4dc3-9317-70608c5dc5a3",
   "metadata": {},
   "outputs": [],
   "source": [
    "from langchain.text_splitter import RecursiveCharacterTextSplitter\n",
    "\n",
    "text_splitter = RecursiveCharacterTextSplitter(\n",
    "    chunk_size=10000,\n",
    "    chunk_overlap=100,\n",
    "    length_function=len)\n",
    "\n",
    "documents = text_splitter.split_documents(docs)"
   ]
  },
  {
   "cell_type": "code",
   "execution_count": 15,
   "id": "3d5d012f-0da1-4be5-93b1-d152d0984e95",
   "metadata": {},
   "outputs": [
    {
     "data": {
      "text/plain": [
       "2"
      ]
     },
     "execution_count": 15,
     "metadata": {},
     "output_type": "execute_result"
    }
   ],
   "source": [
    "len(documents)"
   ]
  },
  {
   "cell_type": "code",
   "execution_count": 20,
   "id": "2ec61ab7-4997-4e66-876b-74da2bbb20b5",
   "metadata": {},
   "outputs": [],
   "source": [
    "from langchain.embeddings.openai import OpenAIEmbeddings\n",
    "\n",
    "embeddings = OpenAIEmbeddings()"
   ]
  },
  {
   "cell_type": "code",
   "execution_count": 24,
   "id": "3c4a0390-394c-412c-97df-03df373ad694",
   "metadata": {},
   "outputs": [
    {
     "data": {
      "text/plain": [
       "'recoveries-strategy-refresh'"
      ]
     },
     "execution_count": 24,
     "metadata": {},
     "output_type": "execute_result"
    }
   ],
   "source": [
    "input_doc.split('/')[-2]"
   ]
  },
  {
   "cell_type": "code",
   "execution_count": 25,
   "id": "f17fda5e-7adf-42ff-969d-5f0f43a828a8",
   "metadata": {},
   "outputs": [],
   "source": [
    "from langchain.vectorstores import Chroma\n",
    "\n",
    "# we will create a local (vector) database\n",
    "persist_directory = f\"../vector_db/{input_doc.split('/')[-2]}\""
   ]
  },
  {
   "cell_type": "code",
   "execution_count": 26,
   "id": "16448c08-11cd-459c-9e65-ca27b1e1f4f6",
   "metadata": {},
   "outputs": [],
   "source": [
    "# create the vector db\n",
    "vectordb = Chroma.from_documents(documents=documents, embedding=embeddings, persist_directory=persist_directory)"
   ]
  },
  {
   "cell_type": "code",
   "execution_count": 27,
   "id": "38414e81-7983-4769-82ae-ac11850b5885",
   "metadata": {},
   "outputs": [],
   "source": [
    "vectordb.persist()"
   ]
  },
  {
   "cell_type": "code",
   "execution_count": 28,
   "id": "b176fe9f-3fa8-4b2b-aef9-937d0830aa49",
   "metadata": {},
   "outputs": [],
   "source": [
    "# create a retriever\n",
    "doc_retriever = vectordb.as_retriever()"
   ]
  },
  {
   "cell_type": "code",
   "execution_count": 32,
   "id": "0f5adcf3-657e-4cd8-b617-e310eadb2904",
   "metadata": {},
   "outputs": [
    {
     "name": "stderr",
     "output_type": "stream",
     "text": [
      "Number of requested results 4 is greater than number of elements in index 2, updating n_results = 2\n"
     ]
    },
    {
     "data": {
      "text/plain": [
       "\"The observations from the last recession that have informed the author's valuations in this article are:\\n\\n1. The significant increase in charged-off volumes overwhelmed agencies.\\n2. Unworked paper eventually flooded the debt buyer market, resulting in a cratering of sales prices.\\n3. Liquidation rates on most Recoveries strategies dropped, but to a lesser degree.\\n4. Legal liquidation rates were surprisingly resilient with just a slight deterioration in performance.\""
      ]
     },
     "execution_count": 32,
     "metadata": {},
     "output_type": "execute_result"
    }
   ],
   "source": [
    "# let's test it\n",
    "from langchain.chains import RetrievalQA\n",
    "\n",
    "doc_qa = RetrievalQA.from_chain_type(llm=llm, chain_type=\"stuff\", retriever=doc_retriever)\n",
    "query = \"Which observations from the last recession have informed the author's valuations in this article?\"\n",
    "doc_qa.run(query)"
   ]
  },
  {
   "cell_type": "code",
   "execution_count": 33,
   "id": "33e01a0a-9e7f-4679-a30f-9d8abe3d183a",
   "metadata": {},
   "outputs": [],
   "source": [
    "from langchain.agents import Tool, ZeroShotAgent\n",
    "\n",
    "tools = [\n",
    "    Tool(\n",
    "        name = \"Document QA Agent\",\n",
    "        func=doc_qa.run,\n",
    "        description=\"useful for when you need to answer questions about a document. Input should be a fully formed question.\"\n",
    "    )\n",
    "]\n",
    "\n",
    "prefix = \"\"\"Have a conversation with a human, answering the following questions as best you can. You have access to the following tools:\"\"\"\n",
    "suffix = \"\"\"Begin!\"\n",
    "\n",
    "{chat_history}\n",
    "Question: {input}\n",
    "{agent_scratchpad}\"\"\"\n",
    "\n",
    "prompt = ZeroShotAgent.create_prompt(\n",
    "    tools, \n",
    "    prefix=prefix, \n",
    "    suffix=suffix, \n",
    "    input_variables=[\"input\", \"chat_history\", \"agent_scratchpad\"]\n",
    ")"
   ]
  },
  {
   "cell_type": "code",
   "execution_count": 34,
   "id": "1f496683-ff5b-4d7c-a89c-81d7cdfb675a",
   "metadata": {},
   "outputs": [],
   "source": [
    "from langchain.memory import ConversationBufferMemory\n",
    "from langchain import LLMChain\n",
    "\n",
    "llm_chain = LLMChain(llm=llm, prompt=prompt)\n",
    "\n",
    "memory = ConversationBufferMemory(memory_key=\"chat_history\")\n",
    "\n",
    "agent = ZeroShotAgent(llm_chain=llm_chain, tools=tools, verbose=True)"
   ]
  },
  {
   "cell_type": "code",
   "execution_count": 35,
   "id": "5c229833-9404-4a3e-b2d2-7de400ca24fe",
   "metadata": {},
   "outputs": [],
   "source": [
    "from langchain.agents import AgentExecutor\n",
    "\n",
    "agent_chain = AgentExecutor.from_agent_and_tools(agent=agent, tools=tools, memory=memory)"
   ]
  },
  {
   "cell_type": "code",
   "execution_count": 36,
   "id": "f06abafd-a5fa-4f37-ba17-c4942b6e4633",
   "metadata": {},
   "outputs": [
    {
     "name": "stderr",
     "output_type": "stream",
     "text": [
      "Number of requested results 4 is greater than number of elements in index 2, updating n_results = 2\n"
     ]
    },
    {
     "data": {
      "text/plain": [
       "\"The observations from the last recession that have informed the author's valuations in this article are: 1) The significant increase in charged-off volumes overwhelmed agencies. 2) Unworked paper eventually flooded the debt buyer market, resulting in a cratering of sales prices. 3) Liquidation rates on most Recoveries strategies dropped, but to a lesser degree. 4) Legal liquidation rates were surprisingly resilient with just a slight deterioration in performance.\""
      ]
     },
     "execution_count": 36,
     "metadata": {},
     "output_type": "execute_result"
    }
   ],
   "source": [
    "agent_chain.run(input=\"Which observations from the last recession have informed the author's valuations in this article?\")"
   ]
  },
  {
   "cell_type": "code",
   "execution_count": 37,
   "id": "2df1b243-fa26-4eae-a5e0-66a7192a6568",
   "metadata": {},
   "outputs": [
    {
     "name": "stderr",
     "output_type": "stream",
     "text": [
      "Number of requested results 4 is greater than number of elements in index 2, updating n_results = 2\n"
     ]
    },
    {
     "data": {
      "text/plain": [
       "'The authors of this article are Matt Jarrell and Dave Wasik.'"
      ]
     },
     "execution_count": 37,
     "metadata": {},
     "output_type": "execute_result"
    }
   ],
   "source": [
    "agent_chain.run(input=\"Who wrote this article?\")"
   ]
  },
  {
   "cell_type": "code",
   "execution_count": 38,
   "id": "854e2e5d-9719-41e8-b5ec-980babd057fa",
   "metadata": {},
   "outputs": [
    {
     "name": "stderr",
     "output_type": "stream",
     "text": [
      "Number of requested results 4 is greater than number of elements in index 2, updating n_results = 2\n"
     ]
    },
    {
     "data": {
      "text/plain": [
       "'Matt Jarrell is the Head of Client and Enterprise Analytics at Quanta Credit Services and a Senior Advisor at 2nd Order Solutions. Dave Wasik is a Partner at 2nd Order Solutions and a former senior executive at Capital One.'"
      ]
     },
     "execution_count": 38,
     "metadata": {},
     "output_type": "execute_result"
    }
   ],
   "source": [
    "agent_chain.run(input=\"Can you provide brief bio for both of them?\")"
   ]
  }
 ],
 "metadata": {
  "kernelspec": {
   "display_name": "Python 3 (ipykernel)",
   "language": "python",
   "name": "python3"
  },
  "language_info": {
   "codemirror_mode": {
    "name": "ipython",
    "version": 3
   },
   "file_extension": ".py",
   "mimetype": "text/x-python",
   "name": "python",
   "nbconvert_exporter": "python",
   "pygments_lexer": "ipython3",
   "version": "3.8.10"
  }
 },
 "nbformat": 4,
 "nbformat_minor": 5
}
